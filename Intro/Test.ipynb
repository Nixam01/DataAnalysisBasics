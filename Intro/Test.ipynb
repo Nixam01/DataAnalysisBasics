{
 "cells": [
  {
   "cell_type": "code",
   "execution_count": 8,
   "id": "ac33032c-7c57-4858-85ad-1d5b9d26cedf",
   "metadata": {},
   "outputs": [
    {
     "name": "stdout",
     "output_type": "stream",
     "text": [
      "8748\n"
     ]
    }
   ],
   "source": [
    "from datetime import datetime\n",
    " \n",
    "  \n",
    "birthday = datetime(2001, 4, 17, 0, 0, 0)\n",
    " \n",
    "  \n",
    "diff = datetime.today() - birthday\n",
    " \n",
    "  \n",
    "print(diff.days)"
   ]
  },
  {
   "cell_type": "code",
   "execution_count": null,
   "id": "225def45-443e-4b6c-b89f-292bb9f0a99f",
   "metadata": {},
   "outputs": [],
   "source": []
  }
 ],
 "metadata": {
  "kernelspec": {
   "display_name": "Python 3 (ipykernel)",
   "language": "python",
   "name": "python3"
  },
  "language_info": {
   "codemirror_mode": {
    "name": "ipython",
    "version": 3
   },
   "file_extension": ".py",
   "mimetype": "text/x-python",
   "name": "python",
   "nbconvert_exporter": "python",
   "pygments_lexer": "ipython3",
   "version": "3.11.7"
  }
 },
 "nbformat": 4,
 "nbformat_minor": 5
}
